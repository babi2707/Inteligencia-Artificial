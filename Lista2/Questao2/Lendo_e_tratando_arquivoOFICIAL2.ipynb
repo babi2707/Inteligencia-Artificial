{
  "nbformat": 4,
  "nbformat_minor": 0,
  "metadata": {
    "colab": {
      "provenance": []
    },
    "kernelspec": {
      "name": "python3",
      "display_name": "Python 3"
    },
    "language_info": {
      "name": "python"
    }
  },
  "cells": [
    {
      "cell_type": "markdown",
      "source": [
        "**Atualizando a biblioteca para plotagem de gráficos**\n"
      ],
      "metadata": {
        "id": "WYfovYvpPtHN"
      }
    },
    {
      "cell_type": "code",
      "source": [
        "!pip -q install plotly --upgrade"
      ],
      "metadata": {
        "id": "hTIKXbn7PfB3"
      },
      "execution_count": null,
      "outputs": []
    },
    {
      "cell_type": "markdown",
      "source": [
        "**Importando bibliotecas**"
      ],
      "metadata": {
        "id": "vWFW_ECYPktU"
      }
    },
    {
      "cell_type": "code",
      "source": [
        "import pandas as pd\n",
        "import numpy as np\n",
        "import seaborn as sns\n",
        "import matplotlib.pyplot as plt\n",
        "import plotly.express as px"
      ],
      "metadata": {
        "id": "kkOvJnL-P1QQ"
      },
      "execution_count": null,
      "outputs": []
    },
    {
      "cell_type": "code",
      "source": [],
      "metadata": {
        "id": "Z-taahtkVxFc"
      },
      "execution_count": null,
      "outputs": []
    },
    {
      "cell_type": "markdown",
      "source": [
        "**Abrindo um arquivo CSV do drive**"
      ],
      "metadata": {
        "id": "A5YB5ubEQfaE"
      }
    },
    {
      "cell_type": "code",
      "source": [
        "base = pd.read_csv('/content/sample_data/restaurantev2.csv', ';', usecols = lambda x:x not in ['Exemplo'], encoding = 'latin-1')"
      ],
      "metadata": {
        "id": "3rzDkhcBQddF",
        "colab": {
          "base_uri": "https://localhost:8080/"
        },
        "outputId": "5c0ec888-68b5-45b8-a0ce-04bdae5bf642"
      },
      "execution_count": null,
      "outputs": [
        {
          "output_type": "stream",
          "name": "stderr",
          "text": [
            "/usr/local/lib/python3.8/dist-packages/IPython/core/interactiveshell.py:3326: FutureWarning: In a future version of pandas all arguments of read_csv except for the argument 'filepath_or_buffer' will be keyword-only\n",
            "  exec(code_obj, self.user_global_ns, self.user_ns)\n"
          ]
        }
      ]
    },
    {
      "cell_type": "markdown",
      "source": [
        "**Você também pode carregar seu arquivo e já selecionar as colunas que desejar... investigue esta função**"
      ],
      "metadata": {
        "id": "y-g8wDMln18q"
      }
    },
    {
      "cell_type": "code",
      "source": [
        "#base2 = pd.read_csv('/content/sample_data/restaurante.csv', ';', usecols=['Alternativo', 'Bar'])\n",
        "#base2"
      ],
      "metadata": {
        "id": "i8-ualmHV-VU"
      },
      "execution_count": null,
      "outputs": []
    },
    {
      "cell_type": "code",
      "source": [
        "base"
      ],
      "metadata": {
        "id": "SFVtNXxPUAnR",
        "colab": {
          "base_uri": "https://localhost:8080/",
          "height": 426
        },
        "outputId": "ab0dd8fa-2930-4bd6-8400-a161d4efffa7"
      },
      "execution_count": null,
      "outputs": [
        {
          "output_type": "execute_result",
          "data": {
            "text/plain": [
              "   Alternativo  Bar Sex/Sab fome Cliente Preço Chuva  Res       Tipo   Tempo  \\\n",
              "0          Sim  Não     Não  Sim  Alguns   RRR   Não  Sim    Francês    0-10   \n",
              "1          Sim  Não     Não  Sim   Cheio     R   Não  Não  Tailandês   30-60   \n",
              "2          Não  Sim     Não  Não  Alguns     R   Não  Não  Hamburger    0-10   \n",
              "3          Sim  Não     Sim  Sim   Cheio     R   Sim  Não  Tailandês  out/30   \n",
              "4          Sim  Não     Sim  Não   Cheio   RRR   Não  Sim    Francês     >60   \n",
              "5          Não  Sim     Não  Sim  Alguns    RR   Sim  Sim   Italiano    0-10   \n",
              "6          Não  Sim     Não  Não  Nenhum     R   Sim  Não  Hamburger    0-10   \n",
              "7          Não  Não     Não  Sim  Alguns    RR   Sim  Sim  Tailandês    0-10   \n",
              "8          Não  Sim     Sim  Não   Cheio     R   Sim  Não  Hamburger     >60   \n",
              "9          Sim  Sim     Sim  Sim   Cheio   RRR   Não  Sim   Italiano  out/30   \n",
              "10         Não  Não     Não  Não  Nenhum     R   Não  Não  Tailandês    0-10   \n",
              "11         Sim  Sim     Sim  Sim   Cheio     R   Não  Não  Hamburger   30-60   \n",
              "\n",
              "   conc  \n",
              "0   Sim  \n",
              "1   Não  \n",
              "2   Sim  \n",
              "3   Sim  \n",
              "4   Não  \n",
              "5   Sim  \n",
              "6   Não  \n",
              "7   Sim  \n",
              "8   Não  \n",
              "9   Não  \n",
              "10  Não  \n",
              "11  Sim  "
            ],
            "text/html": [
              "\n",
              "  <div id=\"df-c9ba0c22-8ddf-4e83-b14f-ed1b49cbf1da\">\n",
              "    <div class=\"colab-df-container\">\n",
              "      <div>\n",
              "<style scoped>\n",
              "    .dataframe tbody tr th:only-of-type {\n",
              "        vertical-align: middle;\n",
              "    }\n",
              "\n",
              "    .dataframe tbody tr th {\n",
              "        vertical-align: top;\n",
              "    }\n",
              "\n",
              "    .dataframe thead th {\n",
              "        text-align: right;\n",
              "    }\n",
              "</style>\n",
              "<table border=\"1\" class=\"dataframe\">\n",
              "  <thead>\n",
              "    <tr style=\"text-align: right;\">\n",
              "      <th></th>\n",
              "      <th>Alternativo</th>\n",
              "      <th>Bar</th>\n",
              "      <th>Sex/Sab</th>\n",
              "      <th>fome</th>\n",
              "      <th>Cliente</th>\n",
              "      <th>Preço</th>\n",
              "      <th>Chuva</th>\n",
              "      <th>Res</th>\n",
              "      <th>Tipo</th>\n",
              "      <th>Tempo</th>\n",
              "      <th>conc</th>\n",
              "    </tr>\n",
              "  </thead>\n",
              "  <tbody>\n",
              "    <tr>\n",
              "      <th>0</th>\n",
              "      <td>Sim</td>\n",
              "      <td>Não</td>\n",
              "      <td>Não</td>\n",
              "      <td>Sim</td>\n",
              "      <td>Alguns</td>\n",
              "      <td>RRR</td>\n",
              "      <td>Não</td>\n",
              "      <td>Sim</td>\n",
              "      <td>Francês</td>\n",
              "      <td>0-10</td>\n",
              "      <td>Sim</td>\n",
              "    </tr>\n",
              "    <tr>\n",
              "      <th>1</th>\n",
              "      <td>Sim</td>\n",
              "      <td>Não</td>\n",
              "      <td>Não</td>\n",
              "      <td>Sim</td>\n",
              "      <td>Cheio</td>\n",
              "      <td>R</td>\n",
              "      <td>Não</td>\n",
              "      <td>Não</td>\n",
              "      <td>Tailandês</td>\n",
              "      <td>30-60</td>\n",
              "      <td>Não</td>\n",
              "    </tr>\n",
              "    <tr>\n",
              "      <th>2</th>\n",
              "      <td>Não</td>\n",
              "      <td>Sim</td>\n",
              "      <td>Não</td>\n",
              "      <td>Não</td>\n",
              "      <td>Alguns</td>\n",
              "      <td>R</td>\n",
              "      <td>Não</td>\n",
              "      <td>Não</td>\n",
              "      <td>Hamburger</td>\n",
              "      <td>0-10</td>\n",
              "      <td>Sim</td>\n",
              "    </tr>\n",
              "    <tr>\n",
              "      <th>3</th>\n",
              "      <td>Sim</td>\n",
              "      <td>Não</td>\n",
              "      <td>Sim</td>\n",
              "      <td>Sim</td>\n",
              "      <td>Cheio</td>\n",
              "      <td>R</td>\n",
              "      <td>Sim</td>\n",
              "      <td>Não</td>\n",
              "      <td>Tailandês</td>\n",
              "      <td>out/30</td>\n",
              "      <td>Sim</td>\n",
              "    </tr>\n",
              "    <tr>\n",
              "      <th>4</th>\n",
              "      <td>Sim</td>\n",
              "      <td>Não</td>\n",
              "      <td>Sim</td>\n",
              "      <td>Não</td>\n",
              "      <td>Cheio</td>\n",
              "      <td>RRR</td>\n",
              "      <td>Não</td>\n",
              "      <td>Sim</td>\n",
              "      <td>Francês</td>\n",
              "      <td>&gt;60</td>\n",
              "      <td>Não</td>\n",
              "    </tr>\n",
              "    <tr>\n",
              "      <th>5</th>\n",
              "      <td>Não</td>\n",
              "      <td>Sim</td>\n",
              "      <td>Não</td>\n",
              "      <td>Sim</td>\n",
              "      <td>Alguns</td>\n",
              "      <td>RR</td>\n",
              "      <td>Sim</td>\n",
              "      <td>Sim</td>\n",
              "      <td>Italiano</td>\n",
              "      <td>0-10</td>\n",
              "      <td>Sim</td>\n",
              "    </tr>\n",
              "    <tr>\n",
              "      <th>6</th>\n",
              "      <td>Não</td>\n",
              "      <td>Sim</td>\n",
              "      <td>Não</td>\n",
              "      <td>Não</td>\n",
              "      <td>Nenhum</td>\n",
              "      <td>R</td>\n",
              "      <td>Sim</td>\n",
              "      <td>Não</td>\n",
              "      <td>Hamburger</td>\n",
              "      <td>0-10</td>\n",
              "      <td>Não</td>\n",
              "    </tr>\n",
              "    <tr>\n",
              "      <th>7</th>\n",
              "      <td>Não</td>\n",
              "      <td>Não</td>\n",
              "      <td>Não</td>\n",
              "      <td>Sim</td>\n",
              "      <td>Alguns</td>\n",
              "      <td>RR</td>\n",
              "      <td>Sim</td>\n",
              "      <td>Sim</td>\n",
              "      <td>Tailandês</td>\n",
              "      <td>0-10</td>\n",
              "      <td>Sim</td>\n",
              "    </tr>\n",
              "    <tr>\n",
              "      <th>8</th>\n",
              "      <td>Não</td>\n",
              "      <td>Sim</td>\n",
              "      <td>Sim</td>\n",
              "      <td>Não</td>\n",
              "      <td>Cheio</td>\n",
              "      <td>R</td>\n",
              "      <td>Sim</td>\n",
              "      <td>Não</td>\n",
              "      <td>Hamburger</td>\n",
              "      <td>&gt;60</td>\n",
              "      <td>Não</td>\n",
              "    </tr>\n",
              "    <tr>\n",
              "      <th>9</th>\n",
              "      <td>Sim</td>\n",
              "      <td>Sim</td>\n",
              "      <td>Sim</td>\n",
              "      <td>Sim</td>\n",
              "      <td>Cheio</td>\n",
              "      <td>RRR</td>\n",
              "      <td>Não</td>\n",
              "      <td>Sim</td>\n",
              "      <td>Italiano</td>\n",
              "      <td>out/30</td>\n",
              "      <td>Não</td>\n",
              "    </tr>\n",
              "    <tr>\n",
              "      <th>10</th>\n",
              "      <td>Não</td>\n",
              "      <td>Não</td>\n",
              "      <td>Não</td>\n",
              "      <td>Não</td>\n",
              "      <td>Nenhum</td>\n",
              "      <td>R</td>\n",
              "      <td>Não</td>\n",
              "      <td>Não</td>\n",
              "      <td>Tailandês</td>\n",
              "      <td>0-10</td>\n",
              "      <td>Não</td>\n",
              "    </tr>\n",
              "    <tr>\n",
              "      <th>11</th>\n",
              "      <td>Sim</td>\n",
              "      <td>Sim</td>\n",
              "      <td>Sim</td>\n",
              "      <td>Sim</td>\n",
              "      <td>Cheio</td>\n",
              "      <td>R</td>\n",
              "      <td>Não</td>\n",
              "      <td>Não</td>\n",
              "      <td>Hamburger</td>\n",
              "      <td>30-60</td>\n",
              "      <td>Sim</td>\n",
              "    </tr>\n",
              "  </tbody>\n",
              "</table>\n",
              "</div>\n",
              "      <button class=\"colab-df-convert\" onclick=\"convertToInteractive('df-c9ba0c22-8ddf-4e83-b14f-ed1b49cbf1da')\"\n",
              "              title=\"Convert this dataframe to an interactive table.\"\n",
              "              style=\"display:none;\">\n",
              "        \n",
              "  <svg xmlns=\"http://www.w3.org/2000/svg\" height=\"24px\"viewBox=\"0 0 24 24\"\n",
              "       width=\"24px\">\n",
              "    <path d=\"M0 0h24v24H0V0z\" fill=\"none\"/>\n",
              "    <path d=\"M18.56 5.44l.94 2.06.94-2.06 2.06-.94-2.06-.94-.94-2.06-.94 2.06-2.06.94zm-11 1L8.5 8.5l.94-2.06 2.06-.94-2.06-.94L8.5 2.5l-.94 2.06-2.06.94zm10 10l.94 2.06.94-2.06 2.06-.94-2.06-.94-.94-2.06-.94 2.06-2.06.94z\"/><path d=\"M17.41 7.96l-1.37-1.37c-.4-.4-.92-.59-1.43-.59-.52 0-1.04.2-1.43.59L10.3 9.45l-7.72 7.72c-.78.78-.78 2.05 0 2.83L4 21.41c.39.39.9.59 1.41.59.51 0 1.02-.2 1.41-.59l7.78-7.78 2.81-2.81c.8-.78.8-2.07 0-2.86zM5.41 20L4 18.59l7.72-7.72 1.47 1.35L5.41 20z\"/>\n",
              "  </svg>\n",
              "      </button>\n",
              "      \n",
              "  <style>\n",
              "    .colab-df-container {\n",
              "      display:flex;\n",
              "      flex-wrap:wrap;\n",
              "      gap: 12px;\n",
              "    }\n",
              "\n",
              "    .colab-df-convert {\n",
              "      background-color: #E8F0FE;\n",
              "      border: none;\n",
              "      border-radius: 50%;\n",
              "      cursor: pointer;\n",
              "      display: none;\n",
              "      fill: #1967D2;\n",
              "      height: 32px;\n",
              "      padding: 0 0 0 0;\n",
              "      width: 32px;\n",
              "    }\n",
              "\n",
              "    .colab-df-convert:hover {\n",
              "      background-color: #E2EBFA;\n",
              "      box-shadow: 0px 1px 2px rgba(60, 64, 67, 0.3), 0px 1px 3px 1px rgba(60, 64, 67, 0.15);\n",
              "      fill: #174EA6;\n",
              "    }\n",
              "\n",
              "    [theme=dark] .colab-df-convert {\n",
              "      background-color: #3B4455;\n",
              "      fill: #D2E3FC;\n",
              "    }\n",
              "\n",
              "    [theme=dark] .colab-df-convert:hover {\n",
              "      background-color: #434B5C;\n",
              "      box-shadow: 0px 1px 3px 1px rgba(0, 0, 0, 0.15);\n",
              "      filter: drop-shadow(0px 1px 2px rgba(0, 0, 0, 0.3));\n",
              "      fill: #FFFFFF;\n",
              "    }\n",
              "  </style>\n",
              "\n",
              "      <script>\n",
              "        const buttonEl =\n",
              "          document.querySelector('#df-c9ba0c22-8ddf-4e83-b14f-ed1b49cbf1da button.colab-df-convert');\n",
              "        buttonEl.style.display =\n",
              "          google.colab.kernel.accessAllowed ? 'block' : 'none';\n",
              "\n",
              "        async function convertToInteractive(key) {\n",
              "          const element = document.querySelector('#df-c9ba0c22-8ddf-4e83-b14f-ed1b49cbf1da');\n",
              "          const dataTable =\n",
              "            await google.colab.kernel.invokeFunction('convertToInteractive',\n",
              "                                                     [key], {});\n",
              "          if (!dataTable) return;\n",
              "\n",
              "          const docLinkHtml = 'Like what you see? Visit the ' +\n",
              "            '<a target=\"_blank\" href=https://colab.research.google.com/notebooks/data_table.ipynb>data table notebook</a>'\n",
              "            + ' to learn more about interactive tables.';\n",
              "          element.innerHTML = '';\n",
              "          dataTable['output_type'] = 'display_data';\n",
              "          await google.colab.output.renderOutput(dataTable, element);\n",
              "          const docLink = document.createElement('div');\n",
              "          docLink.innerHTML = docLinkHtml;\n",
              "          element.appendChild(docLink);\n",
              "        }\n",
              "      </script>\n",
              "    </div>\n",
              "  </div>\n",
              "  "
            ]
          },
          "metadata": {},
          "execution_count": 46
        }
      ]
    },
    {
      "cell_type": "code",
      "source": [
        "base.head(3)"
      ],
      "metadata": {
        "id": "WtFD-X3YVI4B",
        "colab": {
          "base_uri": "https://localhost:8080/",
          "height": 143
        },
        "outputId": "1b254d73-08b7-4a2f-899b-fd61bcf9a8c3"
      },
      "execution_count": null,
      "outputs": [
        {
          "output_type": "execute_result",
          "data": {
            "text/plain": [
              "  Alternativo  Bar Sex/Sab fome Cliente Preço Chuva  Res       Tipo  Tempo  \\\n",
              "0         Sim  Não     Não  Sim  Alguns   RRR   Não  Sim    Francês   0-10   \n",
              "1         Sim  Não     Não  Sim   Cheio     R   Não  Não  Tailandês  30-60   \n",
              "2         Não  Sim     Não  Não  Alguns     R   Não  Não  Hamburger   0-10   \n",
              "\n",
              "  conc  \n",
              "0  Sim  \n",
              "1  Não  \n",
              "2  Sim  "
            ],
            "text/html": [
              "\n",
              "  <div id=\"df-0a99bfdc-7127-4317-8380-6840a9680937\">\n",
              "    <div class=\"colab-df-container\">\n",
              "      <div>\n",
              "<style scoped>\n",
              "    .dataframe tbody tr th:only-of-type {\n",
              "        vertical-align: middle;\n",
              "    }\n",
              "\n",
              "    .dataframe tbody tr th {\n",
              "        vertical-align: top;\n",
              "    }\n",
              "\n",
              "    .dataframe thead th {\n",
              "        text-align: right;\n",
              "    }\n",
              "</style>\n",
              "<table border=\"1\" class=\"dataframe\">\n",
              "  <thead>\n",
              "    <tr style=\"text-align: right;\">\n",
              "      <th></th>\n",
              "      <th>Alternativo</th>\n",
              "      <th>Bar</th>\n",
              "      <th>Sex/Sab</th>\n",
              "      <th>fome</th>\n",
              "      <th>Cliente</th>\n",
              "      <th>Preço</th>\n",
              "      <th>Chuva</th>\n",
              "      <th>Res</th>\n",
              "      <th>Tipo</th>\n",
              "      <th>Tempo</th>\n",
              "      <th>conc</th>\n",
              "    </tr>\n",
              "  </thead>\n",
              "  <tbody>\n",
              "    <tr>\n",
              "      <th>0</th>\n",
              "      <td>Sim</td>\n",
              "      <td>Não</td>\n",
              "      <td>Não</td>\n",
              "      <td>Sim</td>\n",
              "      <td>Alguns</td>\n",
              "      <td>RRR</td>\n",
              "      <td>Não</td>\n",
              "      <td>Sim</td>\n",
              "      <td>Francês</td>\n",
              "      <td>0-10</td>\n",
              "      <td>Sim</td>\n",
              "    </tr>\n",
              "    <tr>\n",
              "      <th>1</th>\n",
              "      <td>Sim</td>\n",
              "      <td>Não</td>\n",
              "      <td>Não</td>\n",
              "      <td>Sim</td>\n",
              "      <td>Cheio</td>\n",
              "      <td>R</td>\n",
              "      <td>Não</td>\n",
              "      <td>Não</td>\n",
              "      <td>Tailandês</td>\n",
              "      <td>30-60</td>\n",
              "      <td>Não</td>\n",
              "    </tr>\n",
              "    <tr>\n",
              "      <th>2</th>\n",
              "      <td>Não</td>\n",
              "      <td>Sim</td>\n",
              "      <td>Não</td>\n",
              "      <td>Não</td>\n",
              "      <td>Alguns</td>\n",
              "      <td>R</td>\n",
              "      <td>Não</td>\n",
              "      <td>Não</td>\n",
              "      <td>Hamburger</td>\n",
              "      <td>0-10</td>\n",
              "      <td>Sim</td>\n",
              "    </tr>\n",
              "  </tbody>\n",
              "</table>\n",
              "</div>\n",
              "      <button class=\"colab-df-convert\" onclick=\"convertToInteractive('df-0a99bfdc-7127-4317-8380-6840a9680937')\"\n",
              "              title=\"Convert this dataframe to an interactive table.\"\n",
              "              style=\"display:none;\">\n",
              "        \n",
              "  <svg xmlns=\"http://www.w3.org/2000/svg\" height=\"24px\"viewBox=\"0 0 24 24\"\n",
              "       width=\"24px\">\n",
              "    <path d=\"M0 0h24v24H0V0z\" fill=\"none\"/>\n",
              "    <path d=\"M18.56 5.44l.94 2.06.94-2.06 2.06-.94-2.06-.94-.94-2.06-.94 2.06-2.06.94zm-11 1L8.5 8.5l.94-2.06 2.06-.94-2.06-.94L8.5 2.5l-.94 2.06-2.06.94zm10 10l.94 2.06.94-2.06 2.06-.94-2.06-.94-.94-2.06-.94 2.06-2.06.94z\"/><path d=\"M17.41 7.96l-1.37-1.37c-.4-.4-.92-.59-1.43-.59-.52 0-1.04.2-1.43.59L10.3 9.45l-7.72 7.72c-.78.78-.78 2.05 0 2.83L4 21.41c.39.39.9.59 1.41.59.51 0 1.02-.2 1.41-.59l7.78-7.78 2.81-2.81c.8-.78.8-2.07 0-2.86zM5.41 20L4 18.59l7.72-7.72 1.47 1.35L5.41 20z\"/>\n",
              "  </svg>\n",
              "      </button>\n",
              "      \n",
              "  <style>\n",
              "    .colab-df-container {\n",
              "      display:flex;\n",
              "      flex-wrap:wrap;\n",
              "      gap: 12px;\n",
              "    }\n",
              "\n",
              "    .colab-df-convert {\n",
              "      background-color: #E8F0FE;\n",
              "      border: none;\n",
              "      border-radius: 50%;\n",
              "      cursor: pointer;\n",
              "      display: none;\n",
              "      fill: #1967D2;\n",
              "      height: 32px;\n",
              "      padding: 0 0 0 0;\n",
              "      width: 32px;\n",
              "    }\n",
              "\n",
              "    .colab-df-convert:hover {\n",
              "      background-color: #E2EBFA;\n",
              "      box-shadow: 0px 1px 2px rgba(60, 64, 67, 0.3), 0px 1px 3px 1px rgba(60, 64, 67, 0.15);\n",
              "      fill: #174EA6;\n",
              "    }\n",
              "\n",
              "    [theme=dark] .colab-df-convert {\n",
              "      background-color: #3B4455;\n",
              "      fill: #D2E3FC;\n",
              "    }\n",
              "\n",
              "    [theme=dark] .colab-df-convert:hover {\n",
              "      background-color: #434B5C;\n",
              "      box-shadow: 0px 1px 3px 1px rgba(0, 0, 0, 0.15);\n",
              "      filter: drop-shadow(0px 1px 2px rgba(0, 0, 0, 0.3));\n",
              "      fill: #FFFFFF;\n",
              "    }\n",
              "  </style>\n",
              "\n",
              "      <script>\n",
              "        const buttonEl =\n",
              "          document.querySelector('#df-0a99bfdc-7127-4317-8380-6840a9680937 button.colab-df-convert');\n",
              "        buttonEl.style.display =\n",
              "          google.colab.kernel.accessAllowed ? 'block' : 'none';\n",
              "\n",
              "        async function convertToInteractive(key) {\n",
              "          const element = document.querySelector('#df-0a99bfdc-7127-4317-8380-6840a9680937');\n",
              "          const dataTable =\n",
              "            await google.colab.kernel.invokeFunction('convertToInteractive',\n",
              "                                                     [key], {});\n",
              "          if (!dataTable) return;\n",
              "\n",
              "          const docLinkHtml = 'Like what you see? Visit the ' +\n",
              "            '<a target=\"_blank\" href=https://colab.research.google.com/notebooks/data_table.ipynb>data table notebook</a>'\n",
              "            + ' to learn more about interactive tables.';\n",
              "          element.innerHTML = '';\n",
              "          dataTable['output_type'] = 'display_data';\n",
              "          await google.colab.output.renderOutput(dataTable, element);\n",
              "          const docLink = document.createElement('div');\n",
              "          docLink.innerHTML = docLinkHtml;\n",
              "          element.appendChild(docLink);\n",
              "        }\n",
              "      </script>\n",
              "    </div>\n",
              "  </div>\n",
              "  "
            ]
          },
          "metadata": {},
          "execution_count": 47
        }
      ]
    },
    {
      "cell_type": "code",
      "source": [
        "base.tail(2)"
      ],
      "metadata": {
        "id": "0VKCjaDIVTMc",
        "colab": {
          "base_uri": "https://localhost:8080/",
          "height": 112
        },
        "outputId": "0b79bdbb-177b-4f9b-e12a-12c2aed03149"
      },
      "execution_count": null,
      "outputs": [
        {
          "output_type": "execute_result",
          "data": {
            "text/plain": [
              "   Alternativo  Bar Sex/Sab fome Cliente Preço Chuva  Res       Tipo  Tempo  \\\n",
              "10         Não  Não     Não  Não  Nenhum     R   Não  Não  Tailandês   0-10   \n",
              "11         Sim  Sim     Sim  Sim   Cheio     R   Não  Não  Hamburger  30-60   \n",
              "\n",
              "   conc  \n",
              "10  Não  \n",
              "11  Sim  "
            ],
            "text/html": [
              "\n",
              "  <div id=\"df-eb11fbfe-37b5-4bfb-8a55-52cea62d426a\">\n",
              "    <div class=\"colab-df-container\">\n",
              "      <div>\n",
              "<style scoped>\n",
              "    .dataframe tbody tr th:only-of-type {\n",
              "        vertical-align: middle;\n",
              "    }\n",
              "\n",
              "    .dataframe tbody tr th {\n",
              "        vertical-align: top;\n",
              "    }\n",
              "\n",
              "    .dataframe thead th {\n",
              "        text-align: right;\n",
              "    }\n",
              "</style>\n",
              "<table border=\"1\" class=\"dataframe\">\n",
              "  <thead>\n",
              "    <tr style=\"text-align: right;\">\n",
              "      <th></th>\n",
              "      <th>Alternativo</th>\n",
              "      <th>Bar</th>\n",
              "      <th>Sex/Sab</th>\n",
              "      <th>fome</th>\n",
              "      <th>Cliente</th>\n",
              "      <th>Preço</th>\n",
              "      <th>Chuva</th>\n",
              "      <th>Res</th>\n",
              "      <th>Tipo</th>\n",
              "      <th>Tempo</th>\n",
              "      <th>conc</th>\n",
              "    </tr>\n",
              "  </thead>\n",
              "  <tbody>\n",
              "    <tr>\n",
              "      <th>10</th>\n",
              "      <td>Não</td>\n",
              "      <td>Não</td>\n",
              "      <td>Não</td>\n",
              "      <td>Não</td>\n",
              "      <td>Nenhum</td>\n",
              "      <td>R</td>\n",
              "      <td>Não</td>\n",
              "      <td>Não</td>\n",
              "      <td>Tailandês</td>\n",
              "      <td>0-10</td>\n",
              "      <td>Não</td>\n",
              "    </tr>\n",
              "    <tr>\n",
              "      <th>11</th>\n",
              "      <td>Sim</td>\n",
              "      <td>Sim</td>\n",
              "      <td>Sim</td>\n",
              "      <td>Sim</td>\n",
              "      <td>Cheio</td>\n",
              "      <td>R</td>\n",
              "      <td>Não</td>\n",
              "      <td>Não</td>\n",
              "      <td>Hamburger</td>\n",
              "      <td>30-60</td>\n",
              "      <td>Sim</td>\n",
              "    </tr>\n",
              "  </tbody>\n",
              "</table>\n",
              "</div>\n",
              "      <button class=\"colab-df-convert\" onclick=\"convertToInteractive('df-eb11fbfe-37b5-4bfb-8a55-52cea62d426a')\"\n",
              "              title=\"Convert this dataframe to an interactive table.\"\n",
              "              style=\"display:none;\">\n",
              "        \n",
              "  <svg xmlns=\"http://www.w3.org/2000/svg\" height=\"24px\"viewBox=\"0 0 24 24\"\n",
              "       width=\"24px\">\n",
              "    <path d=\"M0 0h24v24H0V0z\" fill=\"none\"/>\n",
              "    <path d=\"M18.56 5.44l.94 2.06.94-2.06 2.06-.94-2.06-.94-.94-2.06-.94 2.06-2.06.94zm-11 1L8.5 8.5l.94-2.06 2.06-.94-2.06-.94L8.5 2.5l-.94 2.06-2.06.94zm10 10l.94 2.06.94-2.06 2.06-.94-2.06-.94-.94-2.06-.94 2.06-2.06.94z\"/><path d=\"M17.41 7.96l-1.37-1.37c-.4-.4-.92-.59-1.43-.59-.52 0-1.04.2-1.43.59L10.3 9.45l-7.72 7.72c-.78.78-.78 2.05 0 2.83L4 21.41c.39.39.9.59 1.41.59.51 0 1.02-.2 1.41-.59l7.78-7.78 2.81-2.81c.8-.78.8-2.07 0-2.86zM5.41 20L4 18.59l7.72-7.72 1.47 1.35L5.41 20z\"/>\n",
              "  </svg>\n",
              "      </button>\n",
              "      \n",
              "  <style>\n",
              "    .colab-df-container {\n",
              "      display:flex;\n",
              "      flex-wrap:wrap;\n",
              "      gap: 12px;\n",
              "    }\n",
              "\n",
              "    .colab-df-convert {\n",
              "      background-color: #E8F0FE;\n",
              "      border: none;\n",
              "      border-radius: 50%;\n",
              "      cursor: pointer;\n",
              "      display: none;\n",
              "      fill: #1967D2;\n",
              "      height: 32px;\n",
              "      padding: 0 0 0 0;\n",
              "      width: 32px;\n",
              "    }\n",
              "\n",
              "    .colab-df-convert:hover {\n",
              "      background-color: #E2EBFA;\n",
              "      box-shadow: 0px 1px 2px rgba(60, 64, 67, 0.3), 0px 1px 3px 1px rgba(60, 64, 67, 0.15);\n",
              "      fill: #174EA6;\n",
              "    }\n",
              "\n",
              "    [theme=dark] .colab-df-convert {\n",
              "      background-color: #3B4455;\n",
              "      fill: #D2E3FC;\n",
              "    }\n",
              "\n",
              "    [theme=dark] .colab-df-convert:hover {\n",
              "      background-color: #434B5C;\n",
              "      box-shadow: 0px 1px 3px 1px rgba(0, 0, 0, 0.15);\n",
              "      filter: drop-shadow(0px 1px 2px rgba(0, 0, 0, 0.3));\n",
              "      fill: #FFFFFF;\n",
              "    }\n",
              "  </style>\n",
              "\n",
              "      <script>\n",
              "        const buttonEl =\n",
              "          document.querySelector('#df-eb11fbfe-37b5-4bfb-8a55-52cea62d426a button.colab-df-convert');\n",
              "        buttonEl.style.display =\n",
              "          google.colab.kernel.accessAllowed ? 'block' : 'none';\n",
              "\n",
              "        async function convertToInteractive(key) {\n",
              "          const element = document.querySelector('#df-eb11fbfe-37b5-4bfb-8a55-52cea62d426a');\n",
              "          const dataTable =\n",
              "            await google.colab.kernel.invokeFunction('convertToInteractive',\n",
              "                                                     [key], {});\n",
              "          if (!dataTable) return;\n",
              "\n",
              "          const docLinkHtml = 'Like what you see? Visit the ' +\n",
              "            '<a target=\"_blank\" href=https://colab.research.google.com/notebooks/data_table.ipynb>data table notebook</a>'\n",
              "            + ' to learn more about interactive tables.';\n",
              "          element.innerHTML = '';\n",
              "          dataTable['output_type'] = 'display_data';\n",
              "          await google.colab.output.renderOutput(dataTable, element);\n",
              "          const docLink = document.createElement('div');\n",
              "          docLink.innerHTML = docLinkHtml;\n",
              "          element.appendChild(docLink);\n",
              "        }\n",
              "      </script>\n",
              "    </div>\n",
              "  </div>\n",
              "  "
            ]
          },
          "metadata": {},
          "execution_count": 48
        }
      ]
    },
    {
      "cell_type": "markdown",
      "source": [
        "**Contando quantidade de instâncias**\n"
      ],
      "metadata": {
        "id": "nnxpN2abg5eN"
      }
    },
    {
      "cell_type": "code",
      "source": [
        "np.unique(base['conc'], return_counts=True)"
      ],
      "metadata": {
        "id": "xgR2Os49WO3d",
        "colab": {
          "base_uri": "https://localhost:8080/"
        },
        "outputId": "7b737bb9-ae06-4045-82ff-47e7bff4584a"
      },
      "execution_count": null,
      "outputs": [
        {
          "output_type": "execute_result",
          "data": {
            "text/plain": [
              "(array(['Não', 'Sim'], dtype=object), array([6, 6]))"
            ]
          },
          "metadata": {},
          "execution_count": 49
        }
      ]
    },
    {
      "cell_type": "code",
      "source": [
        "sns.countplot(x = base['conc']);"
      ],
      "metadata": {
        "id": "n-DOy3oXXG4N",
        "colab": {
          "base_uri": "https://localhost:8080/",
          "height": 279
        },
        "outputId": "83418e1b-fb64-40f9-d145-6f25831fa9be"
      },
      "execution_count": null,
      "outputs": [
        {
          "output_type": "display_data",
          "data": {
            "text/plain": [
              "<Figure size 432x288 with 1 Axes>"
            ],
            "image/png": "[encoded data removed]"
          },
          "metadata": {
            "needs_background": "light"
          }
        }
      ]
    },
    {
      "cell_type": "markdown",
      "source": [
        "**Separando os atributos de entrada e de classe**"
      ],
      "metadata": {
        "id": "MYJpg6Q8hH8i"
      }
    },
    {
      "cell_type": "code",
      "source": [
        "X_prev = base.iloc[:, 0:10].values"
      ],
      "metadata": {
        "id": "9EPdNWJIXPm2"
      },
      "execution_count": null,
      "outputs": []
    },
    {
      "cell_type": "code",
      "source": [
        "X_prev"
      ],
      "metadata": {
        "id": "zYITR2Kv6X1F",
        "colab": {
          "base_uri": "https://localhost:8080/"
        },
        "outputId": "b96e60b2-f7bb-4e59-e952-e37561650e1a"
      },
      "execution_count": null,
      "outputs": [
        {
          "output_type": "execute_result",
          "data": {
            "text/plain": [
              "array([['Sim', 'Não', 'Não', 'Sim', 'Alguns', 'RRR', 'Não', 'Sim',\n",
              "        'Francês', '0-10'],\n",
              "       ['Sim', 'Não', 'Não', 'Sim', 'Cheio', 'R', 'Não', 'Não',\n",
              "        'Tailandês', '30-60'],\n",
              "       ['Não', 'Sim', 'Não', 'Não', 'Alguns', 'R', 'Não', 'Não',\n",
              "        'Hamburger', '0-10'],\n",
              "       ['Sim', 'Não', 'Sim', 'Sim', 'Cheio', 'R', 'Sim', 'Não',\n",
              "        'Tailandês', 'out/30'],\n",
              "       ['Sim', 'Não', 'Sim', 'Não', 'Cheio', 'RRR', 'Não', 'Sim',\n",
              "        'Francês', '>60'],\n",
              "       ['Não', 'Sim', 'Não', 'Sim', 'Alguns', 'RR', 'Sim', 'Sim',\n",
              "        'Italiano', '0-10'],\n",
              "       ['Não', 'Sim', 'Não', 'Não', 'Nenhum', 'R', 'Sim', 'Não',\n",
              "        'Hamburger', '0-10'],\n",
              "       ['Não', 'Não', 'Não', 'Sim', 'Alguns', 'RR', 'Sim', 'Sim',\n",
              "        'Tailandês', '0-10'],\n",
              "       ['Não', 'Sim', 'Sim', 'Não', 'Cheio', 'R', 'Sim', 'Não',\n",
              "        'Hamburger', '>60'],\n",
              "       ['Sim', 'Sim', 'Sim', 'Sim', 'Cheio', 'RRR', 'Não', 'Sim',\n",
              "        'Italiano', 'out/30'],\n",
              "       ['Não', 'Não', 'Não', 'Não', 'Nenhum', 'R', 'Não', 'Não',\n",
              "        'Tailandês', '0-10'],\n",
              "       ['Sim', 'Sim', 'Sim', 'Sim', 'Cheio', 'R', 'Não', 'Não',\n",
              "        'Hamburger', '30-60']], dtype=object)"
            ]
          },
          "metadata": {},
          "execution_count": 52
        }
      ]
    },
    {
      "cell_type": "code",
      "source": [
        "X_prev_label = base.iloc[:, 0:10]"
      ],
      "metadata": {
        "id": "35DXGBG46LQ1"
      },
      "execution_count": null,
      "outputs": []
    },
    {
      "cell_type": "code",
      "source": [
        "X_prev_label"
      ],
      "metadata": {
        "id": "IOfUln-yf13F",
        "colab": {
          "base_uri": "https://localhost:8080/",
          "height": 426
        },
        "outputId": "8dc82cb2-0e36-4405-bd7f-1c31d7b91a1d"
      },
      "execution_count": null,
      "outputs": [
        {
          "output_type": "execute_result",
          "data": {
            "text/plain": [
              "   Alternativo  Bar Sex/Sab fome Cliente Preço Chuva  Res       Tipo   Tempo\n",
              "0          Sim  Não     Não  Sim  Alguns   RRR   Não  Sim    Francês    0-10\n",
              "1          Sim  Não     Não  Sim   Cheio     R   Não  Não  Tailandês   30-60\n",
              "2          Não  Sim     Não  Não  Alguns     R   Não  Não  Hamburger    0-10\n",
              "3          Sim  Não     Sim  Sim   Cheio     R   Sim  Não  Tailandês  out/30\n",
              "4          Sim  Não     Sim  Não   Cheio   RRR   Não  Sim    Francês     >60\n",
              "5          Não  Sim     Não  Sim  Alguns    RR   Sim  Sim   Italiano    0-10\n",
              "6          Não  Sim     Não  Não  Nenhum     R   Sim  Não  Hamburger    0-10\n",
              "7          Não  Não     Não  Sim  Alguns    RR   Sim  Sim  Tailandês    0-10\n",
              "8          Não  Sim     Sim  Não   Cheio     R   Sim  Não  Hamburger     >60\n",
              "9          Sim  Sim     Sim  Sim   Cheio   RRR   Não  Sim   Italiano  out/30\n",
              "10         Não  Não     Não  Não  Nenhum     R   Não  Não  Tailandês    0-10\n",
              "11         Sim  Sim     Sim  Sim   Cheio     R   Não  Não  Hamburger   30-60"
            ],
            "text/html": [
              "\n",
              "  <div id=\"df-93bf92a4-1106-48ee-ae7a-6ee7d3ac414c\">\n",
              "    <div class=\"colab-df-container\">\n",
              "      <div>\n",
              "<style scoped>\n",
              "    .dataframe tbody tr th:only-of-type {\n",
              "        vertical-align: middle;\n",
              "    }\n",
              "\n",
              "    .dataframe tbody tr th {\n",
              "        vertical-align: top;\n",
              "    }\n",
              "\n",
              "    .dataframe thead th {\n",
              "        text-align: right;\n",
              "    }\n",
              "</style>\n",
              "<table border=\"1\" class=\"dataframe\">\n",
              "  <thead>\n",
              "    <tr style=\"text-align: right;\">\n",
              "      <th></th>\n",
              "      <th>Alternativo</th>\n",
              "      <th>Bar</th>\n",
              "      <th>Sex/Sab</th>\n",
              "      <th>fome</th>\n",
              "      <th>Cliente</th>\n",
              "      <th>Preço</th>\n",
              "      <th>Chuva</th>\n",
              "      <th>Res</th>\n",
              "      <th>Tipo</th>\n",
              "      <th>Tempo</th>\n",
              "    </tr>\n",
              "  </thead>\n",
              "  <tbody>\n",
              "    <tr>\n",
              "      <th>0</th>\n",
              "      <td>Sim</td>\n",
              "      <td>Não</td>\n",
              "      <td>Não</td>\n",
              "      <td>Sim</td>\n",
              "      <td>Alguns</td>\n",
              "      <td>RRR</td>\n",
              "      <td>Não</td>\n",
              "      <td>Sim</td>\n",
              "      <td>Francês</td>\n",
              "      <td>0-10</td>\n",
              "    </tr>\n",
              "    <tr>\n",
              "      <th>1</th>\n",
              "      <td>Sim</td>\n",
              "      <td>Não</td>\n",
              "      <td>Não</td>\n",
              "      <td>Sim</td>\n",
              "      <td>Cheio</td>\n",
              "      <td>R</td>\n",
              "      <td>Não</td>\n",
              "      <td>Não</td>\n",
              "      <td>Tailandês</td>\n",
              "      <td>30-60</td>\n",
              "    </tr>\n",
              "    <tr>\n",
              "      <th>2</th>\n",
              "      <td>Não</td>\n",
              "      <td>Sim</td>\n",
              "      <td>Não</td>\n",
              "      <td>Não</td>\n",
              "      <td>Alguns</td>\n",
              "      <td>R</td>\n",
              "      <td>Não</td>\n",
              "      <td>Não</td>\n",
              "      <td>Hamburger</td>\n",
              "      <td>0-10</td>\n",
              "    </tr>\n",
              "    <tr>\n",
              "      <th>3</th>\n",
              "      <td>Sim</td>\n",
              "      <td>Não</td>\n",
              "      <td>Sim</td>\n",
              "      <td>Sim</td>\n",
              "      <td>Cheio</td>\n",
              "      <td>R</td>\n",
              "      <td>Sim</td>\n",
              "      <td>Não</td>\n",
              "      <td>Tailandês</td>\n",
              "      <td>out/30</td>\n",
              "    </tr>\n",
              "    <tr>\n",
              "      <th>4</th>\n",
              "      <td>Sim</td>\n",
              "      <td>Não</td>\n",
              "      <td>Sim</td>\n",
              "      <td>Não</td>\n",
              "      <td>Cheio</td>\n",
              "      <td>RRR</td>\n",
              "      <td>Não</td>\n",
              "      <td>Sim</td>\n",
              "      <td>Francês</td>\n",
              "      <td>&gt;60</td>\n",
              "    </tr>\n",
              "    <tr>\n",
              "      <th>5</th>\n",
              "      <td>Não</td>\n",
              "      <td>Sim</td>\n",
              "      <td>Não</td>\n",
              "      <td>Sim</td>\n",
              "      <td>Alguns</td>\n",
              "      <td>RR</td>\n",
              "      <td>Sim</td>\n",
              "      <td>Sim</td>\n",
              "      <td>Italiano</td>\n",
              "      <td>0-10</td>\n",
              "    </tr>\n",
              "    <tr>\n",
              "      <th>6</th>\n",
              "      <td>Não</td>\n",
              "      <td>Sim</td>\n",
              "      <td>Não</td>\n",
              "      <td>Não</td>\n",
              "      <td>Nenhum</td>\n",
              "      <td>R</td>\n",
              "      <td>Sim</td>\n",
              "      <td>Não</td>\n",
              "      <td>Hamburger</td>\n",
              "      <td>0-10</td>\n",
              "    </tr>\n",
              "    <tr>\n",
              "      <th>7</th>\n",
              "      <td>Não</td>\n",
              "      <td>Não</td>\n",
              "      <td>Não</td>\n",
              "      <td>Sim</td>\n",
              "      <td>Alguns</td>\n",
              "      <td>RR</td>\n",
              "      <td>Sim</td>\n",
              "      <td>Sim</td>\n",
              "      <td>Tailandês</td>\n",
              "      <td>0-10</td>\n",
              "    </tr>\n",
              "    <tr>\n",
              "      <th>8</th>\n",
              "      <td>Não</td>\n",
              "      <td>Sim</td>\n",
              "      <td>Sim</td>\n",
              "      <td>Não</td>\n",
              "      <td>Cheio</td>\n",
              "      <td>R</td>\n",
              "      <td>Sim</td>\n",
              "      <td>Não</td>\n",
              "      <td>Hamburger</td>\n",
              "      <td>&gt;60</td>\n",
              "    </tr>\n",
              "    <tr>\n",
              "      <th>9</th>\n",
              "      <td>Sim</td>\n",
              "      <td>Sim</td>\n",
              "      <td>Sim</td>\n",
              "      <td>Sim</td>\n",
              "      <td>Cheio</td>\n",
              "      <td>RRR</td>\n",
              "      <td>Não</td>\n",
              "      <td>Sim</td>\n",
              "      <td>Italiano</td>\n",
              "      <td>out/30</td>\n",
              "    </tr>\n",
              "    <tr>\n",
              "      <th>10</th>\n",
              "      <td>Não</td>\n",
              "      <td>Não</td>\n",
              "      <td>Não</td>\n",
              "      <td>Não</td>\n",
              "      <td>Nenhum</td>\n",
              "      <td>R</td>\n",
              "      <td>Não</td>\n",
              "      <td>Não</td>\n",
              "      <td>Tailandês</td>\n",
              "      <td>0-10</td>\n",
              "    </tr>\n",
              "    <tr>\n",
              "      <th>11</th>\n",
              "      <td>Sim</td>\n",
              "      <td>Sim</td>\n",
              "      <td>Sim</td>\n",
              "      <td>Sim</td>\n",
              "      <td>Cheio</td>\n",
              "      <td>R</td>\n",
              "      <td>Não</td>\n",
              "      <td>Não</td>\n",
              "      <td>Hamburger</td>\n",
              "      <td>30-60</td>\n",
              "    </tr>\n",
              "  </tbody>\n",
              "</table>\n",
              "</div>\n",
              "      <button class=\"colab-df-convert\" onclick=\"convertToInteractive('df-93bf92a4-1106-48ee-ae7a-6ee7d3ac414c')\"\n",
              "              title=\"Convert this dataframe to an interactive table.\"\n",
              "              style=\"display:none;\">\n",
              "        \n",
              "  <svg xmlns=\"http://www.w3.org/2000/svg\" height=\"24px\"viewBox=\"0 0 24 24\"\n",
              "       width=\"24px\">\n",
              "    <path d=\"M0 0h24v24H0V0z\" fill=\"none\"/>\n",
              "    <path d=\"M18.56 5.44l.94 2.06.94-2.06 2.06-.94-2.06-.94-.94-2.06-.94 2.06-2.06.94zm-11 1L8.5 8.5l.94-2.06 2.06-.94-2.06-.94L8.5 2.5l-.94 2.06-2.06.94zm10 10l.94 2.06.94-2.06 2.06-.94-2.06-.94-.94-2.06-.94 2.06-2.06.94z\"/><path d=\"M17.41 7.96l-1.37-1.37c-.4-.4-.92-.59-1.43-.59-.52 0-1.04.2-1.43.59L10.3 9.45l-7.72 7.72c-.78.78-.78 2.05 0 2.83L4 21.41c.39.39.9.59 1.41.59.51 0 1.02-.2 1.41-.59l7.78-7.78 2.81-2.81c.8-.78.8-2.07 0-2.86zM5.41 20L4 18.59l7.72-7.72 1.47 1.35L5.41 20z\"/>\n",
              "  </svg>\n",
              "      </button>\n",
              "      \n",
              "  <style>\n",
              "    .colab-df-container {\n",
              "      display:flex;\n",
              "      flex-wrap:wrap;\n",
              "      gap: 12px;\n",
              "    }\n",
              "\n",
              "    .colab-df-convert {\n",
              "      background-color: #E8F0FE;\n",
              "      border: none;\n",
              "      border-radius: 50%;\n",
              "      cursor: pointer;\n",
              "      display: none;\n",
              "      fill: #1967D2;\n",
              "      height: 32px;\n",
              "      padding: 0 0 0 0;\n",
              "      width: 32px;\n",
              "    }\n",
              "\n",
              "    .colab-df-convert:hover {\n",
              "      background-color: #E2EBFA;\n",
              "      box-shadow: 0px 1px 2px rgba(60, 64, 67, 0.3), 0px 1px 3px 1px rgba(60, 64, 67, 0.15);\n",
              "      fill: #174EA6;\n",
              "    }\n",
              "\n",
              "    [theme=dark] .colab-df-convert {\n",
              "      background-color: #3B4455;\n",
              "      fill: #D2E3FC;\n",
              "    }\n",
              "\n",
              "    [theme=dark] .colab-df-convert:hover {\n",
              "      background-color: #434B5C;\n",
              "      box-shadow: 0px 1px 3px 1px rgba(0, 0, 0, 0.15);\n",
              "      filter: drop-shadow(0px 1px 2px rgba(0, 0, 0, 0.3));\n",
              "      fill: #FFFFFF;\n",
              "    }\n",
              "  </style>\n",
              "\n",
              "      <script>\n",
              "        const buttonEl =\n",
              "          document.querySelector('#df-93bf92a4-1106-48ee-ae7a-6ee7d3ac414c button.colab-df-convert');\n",
              "        buttonEl.style.display =\n",
              "          google.colab.kernel.accessAllowed ? 'block' : 'none';\n",
              "\n",
              "        async function convertToInteractive(key) {\n",
              "          const element = document.querySelector('#df-93bf92a4-1106-48ee-ae7a-6ee7d3ac414c');\n",
              "          const dataTable =\n",
              "            await google.colab.kernel.invokeFunction('convertToInteractive',\n",
              "                                                     [key], {});\n",
              "          if (!dataTable) return;\n",
              "\n",
              "          const docLinkHtml = 'Like what you see? Visit the ' +\n",
              "            '<a target=\"_blank\" href=https://colab.research.google.com/notebooks/data_table.ipynb>data table notebook</a>'\n",
              "            + ' to learn more about interactive tables.';\n",
              "          element.innerHTML = '';\n",
              "          dataTable['output_type'] = 'display_data';\n",
              "          await google.colab.output.renderOutput(dataTable, element);\n",
              "          const docLink = document.createElement('div');\n",
              "          docLink.innerHTML = docLinkHtml;\n",
              "          element.appendChild(docLink);\n",
              "        }\n",
              "      </script>\n",
              "    </div>\n",
              "  </div>\n",
              "  "
            ]
          },
          "metadata": {},
          "execution_count": 54
        }
      ]
    },
    {
      "cell_type": "code",
      "source": [
        "X_prev[:,5]"
      ],
      "metadata": {
        "colab": {
          "base_uri": "https://localhost:8080/"
        },
        "id": "tauFS_600OjB",
        "outputId": "9e5acebe-a47f-4f41-aa99-cea5d65471be"
      },
      "execution_count": null,
      "outputs": [
        {
          "output_type": "execute_result",
          "data": {
            "text/plain": [
              "array(['RRR', 'R', 'R', 'R', 'RRR', 'RR', 'R', 'RR', 'R', 'RRR', 'R', 'R'],\n",
              "      dtype=object)"
            ]
          },
          "metadata": {},
          "execution_count": 55
        }
      ]
    },
    {
      "cell_type": "code",
      "source": [
        "y_classe = base.iloc[:, 10].values"
      ],
      "metadata": {
        "id": "kLLl-H1ygy7y"
      },
      "execution_count": null,
      "outputs": []
    },
    {
      "cell_type": "code",
      "source": [
        "y_classe"
      ],
      "metadata": {
        "colab": {
          "base_uri": "https://localhost:8080/"
        },
        "id": "XFnwVWk2hYzj",
        "outputId": "663c8c30-4c59-4b63-9115-1bd39009d892"
      },
      "execution_count": null,
      "outputs": [
        {
          "output_type": "execute_result",
          "data": {
            "text/plain": [
              "array(['Sim', 'Não', 'Sim', 'Sim', 'Não', 'Sim', 'Não', 'Sim', 'Não',\n",
              "       'Não', 'Não', 'Sim'], dtype=object)"
            ]
          },
          "metadata": {},
          "execution_count": 57
        }
      ]
    },
    {
      "cell_type": "markdown",
      "source": [
        "**Podemos fazer esta mesma divisão (separar as variáveis de entrada e saída) usando os comandos abaixo**"
      ],
      "metadata": {
        "id": "A4y4I3XlXRZT"
      }
    },
    {
      "cell_type": "code",
      "source": [
        "#X = base.copy() \n",
        "#y = X.pop('Conclusao')"
      ],
      "metadata": {
        "id": "sXkdmFSnXQY0"
      },
      "execution_count": null,
      "outputs": []
    },
    {
      "cell_type": "markdown",
      "source": [
        "**Tratamento de dados categóricos**"
      ],
      "metadata": {
        "id": "xeaEnJuOij1V"
      }
    },
    {
      "cell_type": "markdown",
      "source": [
        "> *LabelEncoder - Vamos tratar os dados categóricos colocando 1, 2, 3 e etc**\n",
        "\n"
      ],
      "metadata": {
        "id": "3lW1I_-TiwUi"
      }
    },
    {
      "cell_type": "code",
      "source": [
        "from sklearn.preprocessing import LabelEncoder"
      ],
      "metadata": {
        "id": "bJftEzSbiorG"
      },
      "execution_count": null,
      "outputs": []
    },
    {
      "cell_type": "code",
      "source": [
        "label_encoder = LabelEncoder()"
      ],
      "metadata": {
        "id": "zQDx5oLrjMCZ"
      },
      "execution_count": null,
      "outputs": []
    },
    {
      "cell_type": "code",
      "source": [
        "X_prev[:,0]"
      ],
      "metadata": {
        "id": "OFz5uXgNjZd7",
        "colab": {
          "base_uri": "https://localhost:8080/"
        },
        "outputId": "93f3dab2-1758-4007-ea05-901c88ff9e31"
      },
      "execution_count": null,
      "outputs": [
        {
          "output_type": "execute_result",
          "data": {
            "text/plain": [
              "array(['Sim', 'Sim', 'Não', 'Sim', 'Sim', 'Não', 'Não', 'Não', 'Não',\n",
              "       'Sim', 'Não', 'Sim'], dtype=object)"
            ]
          },
          "metadata": {},
          "execution_count": 60
        }
      ]
    },
    {
      "cell_type": "code",
      "source": [
        "X_prev"
      ],
      "metadata": {
        "id": "P11D5o6rYG8H",
        "colab": {
          "base_uri": "https://localhost:8080/"
        },
        "outputId": "3fde9452-6455-4fec-94df-ae603d56679d"
      },
      "execution_count": null,
      "outputs": [
        {
          "output_type": "execute_result",
          "data": {
            "text/plain": [
              "array([['Sim', 'Não', 'Não', 'Sim', 'Alguns', 'RRR', 'Não', 'Sim',\n",
              "        'Francês', '0-10'],\n",
              "       ['Sim', 'Não', 'Não', 'Sim', 'Cheio', 'R', 'Não', 'Não',\n",
              "        'Tailandês', '30-60'],\n",
              "       ['Não', 'Sim', 'Não', 'Não', 'Alguns', 'R', 'Não', 'Não',\n",
              "        'Hamburger', '0-10'],\n",
              "       ['Sim', 'Não', 'Sim', 'Sim', 'Cheio', 'R', 'Sim', 'Não',\n",
              "        'Tailandês', 'out/30'],\n",
              "       ['Sim', 'Não', 'Sim', 'Não', 'Cheio', 'RRR', 'Não', 'Sim',\n",
              "        'Francês', '>60'],\n",
              "       ['Não', 'Sim', 'Não', 'Sim', 'Alguns', 'RR', 'Sim', 'Sim',\n",
              "        'Italiano', '0-10'],\n",
              "       ['Não', 'Sim', 'Não', 'Não', 'Nenhum', 'R', 'Sim', 'Não',\n",
              "        'Hamburger', '0-10'],\n",
              "       ['Não', 'Não', 'Não', 'Sim', 'Alguns', 'RR', 'Sim', 'Sim',\n",
              "        'Tailandês', '0-10'],\n",
              "       ['Não', 'Sim', 'Sim', 'Não', 'Cheio', 'R', 'Sim', 'Não',\n",
              "        'Hamburger', '>60'],\n",
              "       ['Sim', 'Sim', 'Sim', 'Sim', 'Cheio', 'RRR', 'Não', 'Sim',\n",
              "        'Italiano', 'out/30'],\n",
              "       ['Não', 'Não', 'Não', 'Não', 'Nenhum', 'R', 'Não', 'Não',\n",
              "        'Tailandês', '0-10'],\n",
              "       ['Sim', 'Sim', 'Sim', 'Sim', 'Cheio', 'R', 'Não', 'Não',\n",
              "        'Hamburger', '30-60']], dtype=object)"
            ]
          },
          "metadata": {},
          "execution_count": 61
        }
      ]
    },
    {
      "cell_type": "code",
      "source": [
        "label_encoder_Alternativo = LabelEncoder()\n",
        "label_encoder_Bar = LabelEncoder()\n",
        "label_encoder_SexSab = LabelEncoder()\n",
        "label_encoder_fome = LabelEncoder()\n",
        "label_encoder_Cliente = LabelEncoder()\n",
        "label_encoder_preco = LabelEncoder()\n",
        "label_encoder_chuva = LabelEncoder()\n",
        "label_encoder_Res = LabelEncoder()\n",
        "label_encoder_tempo = LabelEncoder()"
      ],
      "metadata": {
        "id": "hEgGLwa_nDmk"
      },
      "execution_count": null,
      "outputs": []
    },
    {
      "cell_type": "code",
      "source": [
        "X_prev[:,0] = label_encoder_Alternativo.fit_transform(X_prev[:,0])\n",
        "X_prev[:,1] = label_encoder_Bar.fit_transform(X_prev[:,1])\n",
        "X_prev[:,2] = label_encoder_SexSab.fit_transform(X_prev[:,2])\n",
        "X_prev[:,3] = label_encoder_fome.fit_transform(X_prev[:,3])\n",
        "X_prev[:,4] = label_encoder_Cliente.fit_transform(X_prev[:,4])\n",
        "X_prev[:,5] = label_encoder_preco.fit_transform(X_prev[:,5])\n",
        "X_prev[:,6] = label_encoder_chuva.fit_transform(X_prev[:,6])\n",
        "X_prev[:,7] = label_encoder_Res.fit_transform(X_prev[:,7])\n",
        "X_prev[:,9] = label_encoder_tempo.fit_transform(X_prev[:,9])\n"
      ],
      "metadata": {
        "id": "CPHvoFGynldw"
      },
      "execution_count": null,
      "outputs": []
    },
    {
      "cell_type": "code",
      "source": [
        "X_prev"
      ],
      "metadata": {
        "colab": {
          "base_uri": "https://localhost:8080/"
        },
        "id": "phQP4ayIo7JC",
        "outputId": "87703785-c22b-42fb-b0a1-e666082d504d"
      },
      "execution_count": null,
      "outputs": [
        {
          "output_type": "execute_result",
          "data": {
            "text/plain": [
              "array([[1, 0, 0, 1, 0, 2, 0, 1, 'Francês', 0],\n",
              "       [1, 0, 0, 1, 1, 0, 0, 0, 'Tailandês', 1],\n",
              "       [0, 1, 0, 0, 0, 0, 0, 0, 'Hamburger', 0],\n",
              "       [1, 0, 1, 1, 1, 0, 1, 0, 'Tailandês', 3],\n",
              "       [1, 0, 1, 0, 1, 2, 0, 1, 'Francês', 2],\n",
              "       [0, 1, 0, 1, 0, 1, 1, 1, 'Italiano', 0],\n",
              "       [0, 1, 0, 0, 2, 0, 1, 0, 'Hamburger', 0],\n",
              "       [0, 0, 0, 1, 0, 1, 1, 1, 'Tailandês', 0],\n",
              "       [0, 1, 1, 0, 1, 0, 1, 0, 'Hamburger', 2],\n",
              "       [1, 1, 1, 1, 1, 2, 0, 1, 'Italiano', 3],\n",
              "       [0, 0, 0, 0, 2, 0, 0, 0, 'Tailandês', 0],\n",
              "       [1, 1, 1, 1, 1, 0, 0, 0, 'Hamburger', 1]], dtype=object)"
            ]
          },
          "metadata": {},
          "execution_count": 65
        }
      ]
    },
    {
      "cell_type": "markdown",
      "source": [
        "\n",
        "\n",
        "> OneHotEncoder - Agora vamos binarizar atributos não ordinais"
      ],
      "metadata": {
        "id": "CdvWmHBWpNVf"
      }
    },
    {
      "cell_type": "markdown",
      "source": [
        "**Contando quantas opções de resposta tem cada atributo**"
      ],
      "metadata": {
        "id": "tyfOlRYpuc9b"
      }
    },
    {
      "cell_type": "code",
      "source": [
        "len(np.unique(base['Cliente'])) "
      ],
      "metadata": {
        "colab": {
          "base_uri": "https://localhost:8080/"
        },
        "id": "aJkbkyXquPr1",
        "outputId": "76150e68-61c7-473d-d244-9fc74d564825"
      },
      "execution_count": null,
      "outputs": [
        {
          "output_type": "execute_result",
          "data": {
            "text/plain": [
              "3"
            ]
          },
          "metadata": {},
          "execution_count": 66
        }
      ]
    },
    {
      "cell_type": "code",
      "source": [
        "from sklearn.preprocessing import OneHotEncoder\n",
        "from sklearn.compose import ColumnTransformer"
      ],
      "metadata": {
        "id": "abl6WdNRurkE"
      },
      "execution_count": null,
      "outputs": []
    },
    {
      "cell_type": "code",
      "source": [
        "X_prev"
      ],
      "metadata": {
        "colab": {
          "base_uri": "https://localhost:8080/"
        },
        "id": "0motJ0N9yd8W",
        "outputId": "34eebf05-98ed-4683-b7bd-53759a351f6e"
      },
      "execution_count": null,
      "outputs": [
        {
          "output_type": "execute_result",
          "data": {
            "text/plain": [
              "array([[1, 0, 0, 1, 0, 2, 0, 1, 'Francês', 0],\n",
              "       [1, 0, 0, 1, 1, 0, 0, 0, 'Tailandês', 1],\n",
              "       [0, 1, 0, 0, 0, 0, 0, 0, 'Hamburger', 0],\n",
              "       [1, 0, 1, 1, 1, 0, 1, 0, 'Tailandês', 3],\n",
              "       [1, 0, 1, 0, 1, 2, 0, 1, 'Francês', 2],\n",
              "       [0, 1, 0, 1, 0, 1, 1, 1, 'Italiano', 0],\n",
              "       [0, 1, 0, 0, 2, 0, 1, 0, 'Hamburger', 0],\n",
              "       [0, 0, 0, 1, 0, 1, 1, 1, 'Tailandês', 0],\n",
              "       [0, 1, 1, 0, 1, 0, 1, 0, 'Hamburger', 2],\n",
              "       [1, 1, 1, 1, 1, 2, 0, 1, 'Italiano', 3],\n",
              "       [0, 0, 0, 0, 2, 0, 0, 0, 'Tailandês', 0],\n",
              "       [1, 1, 1, 1, 1, 0, 0, 0, 'Hamburger', 1]], dtype=object)"
            ]
          },
          "metadata": {},
          "execution_count": 68
        }
      ]
    },
    {
      "cell_type": "code",
      "source": [
        "X_prev[:,0:9]"
      ],
      "metadata": {
        "colab": {
          "base_uri": "https://localhost:8080/"
        },
        "id": "4n4ZSB9bRN4j",
        "outputId": "9ea31a2e-52e9-446a-cf80-56f8655938e0"
      },
      "execution_count": null,
      "outputs": [
        {
          "output_type": "execute_result",
          "data": {
            "text/plain": [
              "array([[1, 0, 0, 1, 0, 2, 0, 1, 'Francês'],\n",
              "       [1, 0, 0, 1, 1, 0, 0, 0, 'Tailandês'],\n",
              "       [0, 1, 0, 0, 0, 0, 0, 0, 'Hamburger'],\n",
              "       [1, 0, 1, 1, 1, 0, 1, 0, 'Tailandês'],\n",
              "       [1, 0, 1, 0, 1, 2, 0, 1, 'Francês'],\n",
              "       [0, 1, 0, 1, 0, 1, 1, 1, 'Italiano'],\n",
              "       [0, 1, 0, 0, 2, 0, 1, 0, 'Hamburger'],\n",
              "       [0, 0, 0, 1, 0, 1, 1, 1, 'Tailandês'],\n",
              "       [0, 1, 1, 0, 1, 0, 1, 0, 'Hamburger'],\n",
              "       [1, 1, 1, 1, 1, 2, 0, 1, 'Italiano'],\n",
              "       [0, 0, 0, 0, 2, 0, 0, 0, 'Tailandês'],\n",
              "       [1, 1, 1, 1, 1, 0, 0, 0, 'Hamburger']], dtype=object)"
            ]
          },
          "metadata": {},
          "execution_count": 69
        }
      ]
    },
    {
      "cell_type": "code",
      "source": [
        "onehotencoder_restaurante = ColumnTransformer(transformers=[('OneHot', OneHotEncoder(), [8])], remainder='passthrough')\n"
      ],
      "metadata": {
        "id": "PKsgBg8CvVjt"
      },
      "execution_count": null,
      "outputs": []
    },
    {
      "cell_type": "code",
      "source": [
        "X_prev= onehotencoder_restaurante.fit_transform(X_prev)"
      ],
      "metadata": {
        "id": "XxJI5AEAvo0u"
      },
      "execution_count": null,
      "outputs": []
    },
    {
      "cell_type": "code",
      "source": [
        "X_prev"
      ],
      "metadata": {
        "id": "PpzcL-nixDQy",
        "colab": {
          "base_uri": "https://localhost:8080/"
        },
        "outputId": "4cf89d03-52f1-45a7-9471-efc11a5de696"
      },
      "execution_count": null,
      "outputs": [
        {
          "output_type": "execute_result",
          "data": {
            "text/plain": [
              "array([[1.0, 0.0, 0.0, 0.0, 1, 0, 0, 1, 0, 2, 0, 1, 0],\n",
              "       [0.0, 0.0, 0.0, 1.0, 1, 0, 0, 1, 1, 0, 0, 0, 1],\n",
              "       [0.0, 1.0, 0.0, 0.0, 0, 1, 0, 0, 0, 0, 0, 0, 0],\n",
              "       [0.0, 0.0, 0.0, 1.0, 1, 0, 1, 1, 1, 0, 1, 0, 3],\n",
              "       [1.0, 0.0, 0.0, 0.0, 1, 0, 1, 0, 1, 2, 0, 1, 2],\n",
              "       [0.0, 0.0, 1.0, 0.0, 0, 1, 0, 1, 0, 1, 1, 1, 0],\n",
              "       [0.0, 1.0, 0.0, 0.0, 0, 1, 0, 0, 2, 0, 1, 0, 0],\n",
              "       [0.0, 0.0, 0.0, 1.0, 0, 0, 0, 1, 0, 1, 1, 1, 0],\n",
              "       [0.0, 1.0, 0.0, 0.0, 0, 1, 1, 0, 1, 0, 1, 0, 2],\n",
              "       [0.0, 0.0, 1.0, 0.0, 1, 1, 1, 1, 1, 2, 0, 1, 3],\n",
              "       [0.0, 0.0, 0.0, 1.0, 0, 0, 0, 0, 2, 0, 0, 0, 0],\n",
              "       [0.0, 1.0, 0.0, 0.0, 1, 1, 1, 1, 1, 0, 0, 0, 1]], dtype=object)"
            ]
          },
          "metadata": {},
          "execution_count": 72
        }
      ]
    },
    {
      "cell_type": "code",
      "source": [
        "X_prev.shape"
      ],
      "metadata": {
        "colab": {
          "base_uri": "https://localhost:8080/"
        },
        "id": "6YoPu2Vt8mMY",
        "outputId": "260e9fc8-b4f9-45c3-e1e9-a7da935eb75d"
      },
      "execution_count": null,
      "outputs": [
        {
          "output_type": "execute_result",
          "data": {
            "text/plain": [
              "(12, 13)"
            ]
          },
          "metadata": {},
          "execution_count": 73
        }
      ]
    },
    {
      "cell_type": "markdown",
      "source": [
        "**Esta mesma transformação OneHotEncoder pode ser feita com o comando abaixo**"
      ],
      "metadata": {
        "id": "e2DfYD9BZpUV"
      }
    },
    {
      "cell_type": "code",
      "source": [
        "#base = pd.get_dummies(X_prev_label)\n",
        "#base.head()"
      ],
      "metadata": {
        "id": "BihvMTn8ZoHp"
      },
      "execution_count": null,
      "outputs": []
    },
    {
      "cell_type": "markdown",
      "source": [
        "**Método de amostragem Holdout**"
      ],
      "metadata": {
        "id": "9dxbazZBDX6H"
      }
    },
    {
      "cell_type": "code",
      "source": [
        "from sklearn.model_selection import train_test_split"
      ],
      "metadata": {
        "id": "_qGk4N4CK7LQ"
      },
      "execution_count": null,
      "outputs": []
    },
    {
      "cell_type": "code",
      "source": [
        "X_prev"
      ],
      "metadata": {
        "colab": {
          "base_uri": "https://localhost:8080/"
        },
        "id": "iSw7DIn3GuYn",
        "outputId": "a1ccbb18-b0fd-41e8-963c-15d0f0c1ed6b"
      },
      "execution_count": null,
      "outputs": [
        {
          "output_type": "execute_result",
          "data": {
            "text/plain": [
              "array([[1.0, 0.0, 0.0, 0.0, 1, 0, 0, 1, 0, 2, 0, 1, 0],\n",
              "       [0.0, 0.0, 0.0, 1.0, 1, 0, 0, 1, 1, 0, 0, 0, 1],\n",
              "       [0.0, 1.0, 0.0, 0.0, 0, 1, 0, 0, 0, 0, 0, 0, 0],\n",
              "       [0.0, 0.0, 0.0, 1.0, 1, 0, 1, 1, 1, 0, 1, 0, 3],\n",
              "       [1.0, 0.0, 0.0, 0.0, 1, 0, 1, 0, 1, 2, 0, 1, 2],\n",
              "       [0.0, 0.0, 1.0, 0.0, 0, 1, 0, 1, 0, 1, 1, 1, 0],\n",
              "       [0.0, 1.0, 0.0, 0.0, 0, 1, 0, 0, 2, 0, 1, 0, 0],\n",
              "       [0.0, 0.0, 0.0, 1.0, 0, 0, 0, 1, 0, 1, 1, 1, 0],\n",
              "       [0.0, 1.0, 0.0, 0.0, 0, 1, 1, 0, 1, 0, 1, 0, 2],\n",
              "       [0.0, 0.0, 1.0, 0.0, 1, 1, 1, 1, 1, 2, 0, 1, 3],\n",
              "       [0.0, 0.0, 0.0, 1.0, 0, 0, 0, 0, 2, 0, 0, 0, 0],\n",
              "       [0.0, 1.0, 0.0, 0.0, 1, 1, 1, 1, 1, 0, 0, 0, 1]], dtype=object)"
            ]
          },
          "metadata": {},
          "execution_count": 75
        }
      ]
    },
    {
      "cell_type": "code",
      "source": [
        "y_classe"
      ],
      "metadata": {
        "colab": {
          "base_uri": "https://localhost:8080/"
        },
        "id": "y9YbfO5mGyuN",
        "outputId": "2a60f004-1126-451e-9cc4-5f6fdd7f75da"
      },
      "execution_count": null,
      "outputs": [
        {
          "output_type": "execute_result",
          "data": {
            "text/plain": [
              "array(['Sim', 'Não', 'Sim', 'Sim', 'Não', 'Sim', 'Não', 'Sim', 'Não',\n",
              "       'Não', 'Não', 'Sim'], dtype=object)"
            ]
          },
          "metadata": {},
          "execution_count": 76
        }
      ]
    },
    {
      "cell_type": "code",
      "source": [
        "y_classe.shape"
      ],
      "metadata": {
        "colab": {
          "base_uri": "https://localhost:8080/"
        },
        "id": "BBaT0pZRIocD",
        "outputId": "34fe744e-07dd-4d90-a644-95613104704a"
      },
      "execution_count": null,
      "outputs": [
        {
          "output_type": "execute_result",
          "data": {
            "text/plain": [
              "(12,)"
            ]
          },
          "metadata": {},
          "execution_count": 77
        }
      ]
    },
    {
      "cell_type": "code",
      "source": [
        "#X_train_ds, X_test_ds, y_train_ds, y_test_ds = train_test_split(X, y, test_size=0.3, random_state=123, shuffle=True, stratify=y)\n",
        "X_treino, X_teste, y_treino, y_teste = train_test_split(X_prev, y_classe, test_size = 0.20, random_state = 0)"
      ],
      "metadata": {
        "id": "BQ7sHFHmDz_b"
      },
      "execution_count": null,
      "outputs": []
    },
    {
      "cell_type": "code",
      "source": [
        "X_treino.shape"
      ],
      "metadata": {
        "colab": {
          "base_uri": "https://localhost:8080/"
        },
        "id": "nXswVGPeK_HB",
        "outputId": "a09587b0-2aef-40ee-8a01-015560fa6c4e"
      },
      "execution_count": null,
      "outputs": [
        {
          "output_type": "execute_result",
          "data": {
            "text/plain": [
              "(9, 13)"
            ]
          },
          "metadata": {},
          "execution_count": 79
        }
      ]
    },
    {
      "cell_type": "code",
      "source": [
        "X_teste.shape"
      ],
      "metadata": {
        "colab": {
          "base_uri": "https://localhost:8080/"
        },
        "id": "Qt1gTVyxLAvS",
        "outputId": "808955f5-b80c-408b-9d15-2a9c58fbfa17"
      },
      "execution_count": null,
      "outputs": [
        {
          "output_type": "execute_result",
          "data": {
            "text/plain": [
              "(3, 13)"
            ]
          },
          "metadata": {},
          "execution_count": 80
        }
      ]
    },
    {
      "cell_type": "code",
      "source": [
        "X_teste"
      ],
      "metadata": {
        "colab": {
          "base_uri": "https://localhost:8080/"
        },
        "id": "XmMPjC6A21vr",
        "outputId": "01cbcd8b-a40b-401f-ebcf-ff0741918b17"
      },
      "execution_count": null,
      "outputs": [
        {
          "output_type": "execute_result",
          "data": {
            "text/plain": [
              "array([[0.0, 1.0, 0.0, 0.0, 0, 1, 0, 0, 2, 0, 1, 0, 0],\n",
              "       [0.0, 1.0, 0.0, 0.0, 1, 1, 1, 1, 1, 0, 0, 0, 1],\n",
              "       [1.0, 0.0, 0.0, 0.0, 1, 0, 1, 0, 1, 2, 0, 1, 2]], dtype=object)"
            ]
          },
          "metadata": {},
          "execution_count": 81
        }
      ]
    },
    {
      "cell_type": "code",
      "source": [
        "y_treino"
      ],
      "metadata": {
        "colab": {
          "base_uri": "https://localhost:8080/"
        },
        "id": "Nd8g6k2ALDbU",
        "outputId": "ae69d52d-fb1d-466a-a2dc-b89c1e593ce2"
      },
      "execution_count": null,
      "outputs": [
        {
          "output_type": "execute_result",
          "data": {
            "text/plain": [
              "array(['Não', 'Sim', 'Não', 'Não', 'Sim', 'Não', 'Sim', 'Sim', 'Sim'],\n",
              "      dtype=object)"
            ]
          },
          "metadata": {},
          "execution_count": 82
        }
      ]
    },
    {
      "cell_type": "code",
      "source": [
        "y_teste"
      ],
      "metadata": {
        "colab": {
          "base_uri": "https://localhost:8080/"
        },
        "id": "8VliUzP_LH5G",
        "outputId": "51190813-b238-4034-95a2-74f01cada752"
      },
      "execution_count": null,
      "outputs": [
        {
          "output_type": "execute_result",
          "data": {
            "text/plain": [
              "array(['Não', 'Sim', 'Não'], dtype=object)"
            ]
          },
          "metadata": {},
          "execution_count": 83
        }
      ]
    },
    {
      "cell_type": "code",
      "source": [
        "import pickle"
      ],
      "metadata": {
        "id": "zbE73RVVVPbW"
      },
      "execution_count": null,
      "outputs": []
    },
    {
      "cell_type": "code",
      "source": [
        "with open('/content/sample_data/restaurante.pkl', mode = 'wb') as f:\n",
        "  pickle.dump([X_treino, X_teste, y_treino, y_teste], f)"
      ],
      "metadata": {
        "id": "v6E--H7lViHH"
      },
      "execution_count": null,
      "outputs": []
    }
  ]
}